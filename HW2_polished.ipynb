{
 "cells": [
  {
   "cell_type": "code",
   "execution_count": 86,
   "metadata": {},
   "outputs": [],
   "source": [
    "import pandas as pd\n",
    "import numpy as np\n",
    "import matplotlib.pyplot as plt\n",
    "from keras.utils import np_utils"
   ]
  },
  {
   "cell_type": "code",
   "execution_count": 87,
   "metadata": {},
   "outputs": [
    {
     "data": {
      "text/plain": [
       "b\"\\x00\\x00\\x08\\x01\\x00\\x00'\\x10\""
      ]
     },
     "execution_count": 87,
     "metadata": {},
     "output_type": "execute_result"
    }
   ],
   "source": [
    "f=open('train-images.idx3-ubyte','rb')\n",
    "l=open('train-labels.idx1-ubyte','rb')\n",
    "o=open('output_train.csv','w')\n",
    "f.read(16)  #Read 16 Bytes\n",
    "l.read(8)   #Read 8 Bytes of data\n",
    "f2=open('t10k-images.idx3-ubyte','rb')\n",
    "l2=open('t10k-labels.idx1-ubyte','rb')\n",
    "o2=open('output_test.csv','w')\n",
    "f2.read(16)\n",
    "l2.read(8)"
   ]
  },
  {
   "cell_type": "code",
   "execution_count": 88,
   "metadata": {
    "collapsed": true
   },
   "outputs": [],
   "source": [
    "train_img=[]\n",
    "test_img=[]\n",
    "n=1000\n",
    "for i in range(n):\n",
    "    img=[ord(l.read(1))]\n",
    "    for j in range(28*28):\n",
    "        img.append(ord(f.read(1)))\n",
    "    train_img.append(img)\n",
    "for image in train_img:\n",
    "    o.write(\",\".join(str(pixel) for pixel in image)+\"\\n\") \n",
    "f.close()\n",
    "l.close()\n",
    "o.close()\n",
    "n2=10000\n",
    "for i in range(10000):\n",
    "    img=[ord(l2.read(1))]\n",
    "    for j in range(28*28):\n",
    "        img.append(ord(f2.read(1)))\n",
    "    test_img.append(img)  \n",
    "for image in test_img:\n",
    "    o2.write(\",\".join(str(pixel) for pixel in image)+\"\\n\")\n",
    "f2.close()\n",
    "l2.close()\n",
    "o2.close()    "
   ]
  },
  {
   "cell_type": "code",
   "execution_count": 89,
   "metadata": {},
   "outputs": [],
   "source": [
    "df_train=pd.read_csv('output_train.csv',header=None)\n",
    "df_test=pd.read_csv('output_test.csv',header=None)\n",
    "eta=1\n",
    "epsilon=0.1\n",
    "W=np.random.random(size=(10,784))\n",
    "max_epochs=40\n",
    "errors_train=[]\n",
    "df2_train=pd.DataFrame(np_utils.to_categorical(df_train[0]))"
   ]
  },
  {
   "cell_type": "code",
   "execution_count": 90,
   "metadata": {
    "collapsed": true
   },
   "outputs": [],
   "source": [
    "def step_func(y):\n",
    "    return np.array(list(map(lambda x: 1 if x>=0 else 0,y)))"
   ]
  },
  {
   "cell_type": "code",
   "execution_count": 91,
   "metadata": {
    "collapsed": true
   },
   "outputs": [],
   "source": [
    "def find_errors(df,W):\n",
    "    df['v']=df.apply(lambda x: np.dot(W,x[1:785].values).argmax(),axis=1)\n",
    "    return sum(df['v']!=df[0])"
   ]
  },
  {
   "cell_type": "code",
   "execution_count": 92,
   "metadata": {},
   "outputs": [
    {
     "name": "stdout",
     "output_type": "stream",
     "text": [
      "0\n",
      "1\n",
      "2\n",
      "3\n",
      "4\n",
      "5\n",
      "6\n",
      "7\n",
      "8\n",
      "9\n",
      "10\n",
      "11\n",
      "12\n",
      "13\n",
      "14\n",
      "15\n",
      "16\n",
      "17\n",
      "18\n",
      "19\n",
      "20\n",
      "21\n",
      "22\n",
      "23\n",
      "24\n",
      "25\n",
      "26\n",
      "27\n",
      "28\n",
      "29\n",
      "30\n",
      "31\n",
      "32\n",
      "33\n",
      "34\n",
      "35\n",
      "36\n",
      "37\n",
      "38\n",
      "39\n"
     ]
    }
   ],
   "source": [
    "for i in range(max_epochs):\n",
    "    errors_train.append(find_errors(df_train,W))\n",
    "    print(i)\n",
    "    for j in range(n):\n",
    "        #print(j)\n",
    "        W=W+eta*np.dot(np.expand_dims(df2_train.iloc[j].values-step_func(np.dot(W,df_train.iloc[j][1:785].values)),axis=1),\n",
    "              np.expand_dims(df_train.iloc[j][1:785],axis=0)) \n",
    "W_final=W  "
   ]
  },
  {
   "cell_type": "code",
   "execution_count": 93,
   "metadata": {},
   "outputs": [
    {
     "data": {
      "text/plain": [
       "[918,\n",
       " 213,\n",
       " 188,\n",
       " 105,\n",
       " 68,\n",
       " 76,\n",
       " 76,\n",
       " 96,\n",
       " 35,\n",
       " 52,\n",
       " 26,\n",
       " 32,\n",
       " 45,\n",
       " 20,\n",
       " 25,\n",
       " 26,\n",
       " 30,\n",
       " 40,\n",
       " 16,\n",
       " 11,\n",
       " 24,\n",
       " 3,\n",
       " 37,\n",
       " 27,\n",
       " 6,\n",
       " 6,\n",
       " 2,\n",
       " 12,\n",
       " 4,\n",
       " 3,\n",
       " 4,\n",
       " 0,\n",
       " 8,\n",
       " 3,\n",
       " 12,\n",
       " 7,\n",
       " 5,\n",
       " 1,\n",
       " 0,\n",
       " 1]"
      ]
     },
     "execution_count": 93,
     "metadata": {},
     "output_type": "execute_result"
    }
   ],
   "source": [
    "errors_train"
   ]
  },
  {
   "cell_type": "code",
   "execution_count": 94,
   "metadata": {},
   "outputs": [
    {
     "data": {
      "image/png": "[encoded data removed]",
      "text/plain": [
       "<matplotlib.figure.Figure at 0x4fa454a8>"
      ]
     },
     "metadata": {},
     "output_type": "display_data"
    }
   ],
   "source": [
    "fig,ax=plt.subplots(nrows=1)\n",
    "ax.plot(range(max_epochs),[x/600 for x in errors_train])\n",
    "ax.set_xlabel('Epoch')\n",
    "ax.set_ylabel('Percentage of missclassified')\n",
    "plt.show()"
   ]
  },
  {
   "cell_type": "code",
   "execution_count": 95,
   "metadata": {},
   "outputs": [
    {
     "data": {
      "text/plain": [
       "[1804]"
      ]
     },
     "execution_count": 95,
     "metadata": {},
     "output_type": "execute_result"
    }
   ],
   "source": [
    "errors_test=[]\n",
    "errors_test.append(find_errors(df_test,W_final))\n",
    "errors_test"
   ]
  },
  {
   "cell_type": "code",
   "execution_count": null,
   "metadata": {
    "collapsed": true
   },
   "outputs": [],
   "source": []
  }
 ],
 "metadata": {
  "kernelspec": {
   "display_name": "Python 3",
   "language": "python",
   "name": "python3"
  },
  "language_info": {
   "codemirror_mode": {
    "name": "ipython",
    "version": 3
   },
   "file_extension": ".py",
   "mimetype": "text/x-python",
   "name": "python",
   "nbconvert_exporter": "python",
   "pygments_lexer": "ipython3",
   "version": "3.6.1"
  }
 },
 "nbformat": 4,
 "nbformat_minor": 2
}
